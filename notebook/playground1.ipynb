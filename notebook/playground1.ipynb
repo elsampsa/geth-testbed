{
 "cells": [
  {
   "cell_type": "code",
   "execution_count": 2,
   "id": "fb13cbb5",
   "metadata": {},
   "outputs": [
    {
     "data": {
      "text/html": [
       "<style>.container { width:100% !important; }</style>"
      ],
      "text/plain": [
       "<IPython.core.display.HTML object>"
      ]
     },
     "metadata": {},
     "output_type": "display_data"
    }
   ],
   "source": [
    "import json\n",
    "from pprint import pprint\n",
    "from IPython.core.display import display, HTML, Markdown\n",
    "from web3 import Web3, HTTPProvider, IPCProvider \n",
    "%reload_ext autoreload\n",
    "%autoreload 2\n",
    "display(HTML(\"<style>.container { width:100% !important; }</style>\"))"
   ]
  },
  {
   "cell_type": "code",
   "execution_count": 5,
   "id": "a2e97254",
   "metadata": {},
   "outputs": [
    {
     "data": {
      "text/plain": [
       "0"
      ]
     },
     "execution_count": 5,
     "metadata": {},
     "output_type": "execute_result"
    }
   ],
   "source": [
    "w3 = Web3(HTTPProvider('http://127.0.0.1:8545'))\n",
    "w3.eth.blockNumber"
   ]
  },
  {
   "cell_type": "code",
   "execution_count": 6,
   "id": "f657853a",
   "metadata": {},
   "outputs": [
    {
     "data": {
      "text/plain": [
       "AttributeDict({'currentBlock': 36,\n",
       " 'healedBytecodeBytes': '0x0',\n",
       " 'healedBytecodes': '0x0',\n",
       " 'healedTrienodeBytes': '0x0',\n",
       " 'healedTrienodes': '0x0',\n",
       " 'healingBytecode': '0x0',\n",
       " 'healingTrienodes': '0x0',\n",
       " 'highestBlock': 131,\n",
       " 'startingBlock': 0,\n",
       " 'syncedAccountBytes': '0x0',\n",
       " 'syncedAccounts': '0x0',\n",
       " 'syncedBytecodeBytes': '0x0',\n",
       " 'syncedBytecodes': '0x0',\n",
       " 'syncedStorage': '0x0',\n",
       " 'syncedStorageBytes': '0x0'})"
      ]
     },
     "execution_count": 6,
     "metadata": {},
     "output_type": "execute_result"
    }
   ],
   "source": [
    "w3.eth.syncing"
   ]
  }
 ],
 "metadata": {
  "kernelspec": {
   "display_name": "Python 3",
   "language": "python",
   "name": "python3"
  },
  "language_info": {
   "codemirror_mode": {
    "name": "ipython",
    "version": 3
   },
   "file_extension": ".py",
   "mimetype": "text/x-python",
   "name": "python",
   "nbconvert_exporter": "python",
   "pygments_lexer": "ipython3",
   "version": "3.8.10"
  },
  "varInspector": {
   "cols": {
    "lenName": 16,
    "lenType": 16,
    "lenVar": 40
   },
   "kernels_config": {
    "python": {
     "delete_cmd_postfix": "",
     "delete_cmd_prefix": "del ",
     "library": "var_list.py",
     "varRefreshCmd": "print(var_dic_list())"
    },
    "r": {
     "delete_cmd_postfix": ") ",
     "delete_cmd_prefix": "rm(",
     "library": "var_list.r",
     "varRefreshCmd": "cat(var_dic_list()) "
    }
   },
   "types_to_exclude": [
    "module",
    "function",
    "builtin_function_or_method",
    "instance",
    "_Feature"
   ],
   "window_display": false
  }
 },
 "nbformat": 4,
 "nbformat_minor": 5
}
